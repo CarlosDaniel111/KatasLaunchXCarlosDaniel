{
 "cells": [
  {
   "cell_type": "markdown",
   "metadata": {},
   "source": [
    "# Kata Modulo 3"
   ]
  },
  {
   "cell_type": "code",
   "execution_count": 2,
   "metadata": {},
   "outputs": [
    {
     "name": "stdout",
     "output_type": "stream",
     "text": [
      "Hay uno que se dirige a la tierra ahora a una velocidad de 49 km/s!\n"
     ]
    }
   ],
   "source": [
    "vel_asteroide = 49;\n",
    "if vel_asteroide > 25:\n",
    "    print(\"Un asteroide se acerca, y viaja a una velocidad de \"+ str(vel_asteroide) +\" km/s!\")\n",
    "else:\n",
    "    print(\"Todo tranquilo\")"
   ]
  },
  {
   "cell_type": "code",
   "execution_count": 4,
   "metadata": {},
   "outputs": [
    {
     "name": "stdout",
     "output_type": "stream",
     "text": [
      "Todo tranquilo\n"
     ]
    }
   ],
   "source": [
    "vel_asteroide = 19\n",
    "if vel_asteroide > 20:\n",
    "    print(\"Hay un rayo de luz\")\n",
    "elif vel_asteroide == 20:\n",
    "    print(\"Hay un rayo de luz\")\n",
    "else:\n",
    "    print(\"Todo tranquilo\")"
   ]
  },
  {
   "cell_type": "code",
   "execution_count": 5,
   "metadata": {},
   "outputs": [
    {
     "name": "stdout",
     "output_type": "stream",
     "text": [
      "Cuidado un asteroide causara mucho daño\n",
      "Hay un rayo de luz\n"
     ]
    }
   ],
   "source": [
    "vel_asteroide = 25\n",
    "tam_asteroide = 40\n",
    "if tam_asteroide > 25 and tam_asteroide < 1000:\n",
    "    print(\"Cuidado un asteroide causara mucho daño\")\n",
    "elif tam_asteroide < 25:\n",
    "    print(\"Todo tranquilo\")\n",
    "if vel_asteroide > 25:\n",
    "    print(\"Un asteroide se acerca, y viaja a una velocidad de \"+ str(vel_asteroide) +\" km/s!\")\n",
    "elif vel_asteroide >= 20:\n",
    "    print(\"Hay un rayo de luz\")\n",
    "else:\n",
    "    print(\"Todo tranquilo\")"
   ]
  }
 ],
 "metadata": {
  "interpreter": {
   "hash": "69eb92836b941e979072a76c7fcfffe5419cca933cedd02cfafbdfca1a93358c"
  },
  "kernelspec": {
   "display_name": "Python 3.9.10 64-bit",
   "name": "python3"
  },
  "language_info": {
   "codemirror_mode": {
    "name": "ipython",
    "version": 3
   },
   "file_extension": ".py",
   "mimetype": "text/x-python",
   "name": "python",
   "nbconvert_exporter": "python",
   "pygments_lexer": "ipython3",
   "version": "3.9.10"
  },
  "orig_nbformat": 4
 },
 "nbformat": 4,
 "nbformat_minor": 2
}
