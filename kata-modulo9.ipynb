{
 "cells": [
  {
   "cell_type": "markdown",
   "metadata": {},
   "source": [
    "# Kata Modulo 9"
   ]
  },
  {
   "cell_type": "markdown",
   "metadata": {},
   "source": [
    "## Ejercicio 1"
   ]
  },
  {
   "cell_type": "code",
   "execution_count": 1,
   "metadata": {},
   "outputs": [],
   "source": [
    "def informe(tanque1, tanque2, tanque3):\n",
    "    promedio = (tanque1 + tanque2 + tanque3)/3\n",
    "    return f\"\"\"Informe:\n",
    "    Promedio: {promedio}\n",
    "    Tanque 1: {tanque1}\n",
    "    Tanque 2: {tanque2}\n",
    "    Tanque 3: {tanque3}\n",
    "    \"\"\""
   ]
  },
  {
   "cell_type": "code",
   "execution_count": 2,
   "metadata": {},
   "outputs": [
    {
     "name": "stdout",
     "output_type": "stream",
     "text": [
      "Informe:\n",
      "    Promedio: 25.0\n",
      "    Tanque 1: 25\n",
      "    Tanque 2: 35\n",
      "    Tanque 3: 15\n",
      "    \n"
     ]
    }
   ],
   "source": [
    "print(informe(25,35,15))"
   ]
  },
  {
   "cell_type": "code",
   "execution_count": 4,
   "metadata": {},
   "outputs": [
    {
     "data": {
      "text/plain": [
       "25.0"
      ]
     },
     "execution_count": 4,
     "metadata": {},
     "output_type": "execute_result"
    }
   ],
   "source": [
    "def cal_promedio(values):\n",
    "    return sum(values)/len(values)\n",
    "\n",
    "cal_promedio([25,35,15])"
   ]
  },
  {
   "cell_type": "code",
   "execution_count": 5,
   "metadata": {},
   "outputs": [
    {
     "name": "stdout",
     "output_type": "stream",
     "text": [
      "Informe:\n",
      "    Promedio: 25.0\n",
      "    Tanque 1: 25\n",
      "    Tanque 2: 35\n",
      "    Tanque 3: 15\n",
      "    \n"
     ]
    }
   ],
   "source": [
    "def informe(tanque1, tanque2, tanque3):\n",
    "    return f\"\"\"Informe:\n",
    "    Promedio: {cal_promedio([25,35,15])}\n",
    "    Tanque 1: {tanque1}\n",
    "    Tanque 2: {tanque2}\n",
    "    Tanque 3: {tanque3}\n",
    "    \"\"\"\n",
    "\n",
    "print(informe(25,35,15))"
   ]
  },
  {
   "cell_type": "markdown",
   "metadata": {},
   "source": [
    "## Ejercicio 2"
   ]
  },
  {
   "cell_type": "code",
   "execution_count": 6,
   "metadata": {},
   "outputs": [
    {
     "name": "stdout",
     "output_type": "stream",
     "text": [
      "\n",
      "    Mision a Luna\n",
      "    Tiempo de viaje: 65 minutos\n",
      "    Total combustible: 500000 galones\n",
      "    \n"
     ]
    }
   ],
   "source": [
    "def informe_cohete(prelanzamiento, vuelo, destino, tanque_ext, tanque_int):\n",
    "    return f\"\"\"\n",
    "    Mision a {destino}\n",
    "    Tiempo de viaje: {prelanzamiento + vuelo} minutos\n",
    "    Total combustible: {tanque_ext + tanque_int} galones\n",
    "    \"\"\"\n",
    "\n",
    "print(informe_cohete(14,51,\"Luna\",200000,300000))"
   ]
  },
  {
   "cell_type": "code",
   "execution_count": 7,
   "metadata": {},
   "outputs": [
    {
     "name": "stdout",
     "output_type": "stream",
     "text": [
      "\n",
      "    Mision a Luna\n",
      "    Tiempo de viaje: 76 minutos\n",
      "    Total combustible: 500000 galones\n",
      "    \n"
     ]
    }
   ],
   "source": [
    "def informe_cohete(destino, *minutos, **tanques):\n",
    "    return f\"\"\"\n",
    "    Mision a {destino}\n",
    "    Tiempo de viaje: {sum(minutos)} minutos\n",
    "    Total combustible: {sum(tanques.values())} galones\n",
    "    \"\"\"\n",
    "\n",
    "print(informe_cohete(\"Luna\", 10, 15, 51, int=300000, ext=200000))"
   ]
  },
  {
   "cell_type": "code",
   "execution_count": 10,
   "metadata": {},
   "outputs": [
    {
     "name": "stdout",
     "output_type": "stream",
     "text": [
      "\n",
      "    Mision a Luna\n",
      "    Tiempo de viaje: 76 minutos\n",
      "    Total combustible: 500000 galones\n",
      "    int = 300000 galones\n",
      "ext = 200000 galones\n",
      "\n"
     ]
    }
   ],
   "source": [
    "def informe_cohete(destino, *minutos, **tanques):\n",
    "    reporte = f\"\"\"\n",
    "    Mision a {destino}\n",
    "    Tiempo de viaje: {sum(minutos)} minutos\n",
    "    Total combustible: {sum(tanques.values())} galones\n",
    "    \"\"\"\n",
    "    for tanque, galon in tanques.items():\n",
    "        reporte += f\"{tanque} = {galon} galones\\n\"\n",
    "    return reporte\n",
    "\n",
    "print(informe_cohete(\"Luna\", 10, 15, 51, int=300000, ext=200000))"
   ]
  }
 ],
 "metadata": {
  "interpreter": {
   "hash": "69eb92836b941e979072a76c7fcfffe5419cca933cedd02cfafbdfca1a93358c"
  },
  "kernelspec": {
   "display_name": "Python 3.9.10 64-bit",
   "name": "python3"
  },
  "language_info": {
   "codemirror_mode": {
    "name": "ipython",
    "version": 3
   },
   "file_extension": ".py",
   "mimetype": "text/x-python",
   "name": "python",
   "nbconvert_exporter": "python",
   "pygments_lexer": "ipython3",
   "version": "3.9.10"
  },
  "orig_nbformat": 4
 },
 "nbformat": 4,
 "nbformat_minor": 2
}
